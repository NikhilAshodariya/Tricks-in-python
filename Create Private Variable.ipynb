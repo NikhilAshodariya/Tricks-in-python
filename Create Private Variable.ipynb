{
 "cells": [
  {
   "cell_type": "code",
   "execution_count": 110,
   "metadata": {
    "collapsed": true
   },
   "outputs": [],
   "source": [
    "def deposit(obj,a):\n",
    "        obj['amount']= obj['amount']+a\n",
    "        \n",
    "def withdraw(obj,a):\n",
    "    if a<amount:\n",
    "        amount=amount-a\n",
    "        print(\"New amount = \",amount)\n",
    "    else:\n",
    "        print(\"no sufficient balance \")\n",
    "\n",
    "def statement(obj):\n",
    "    print(\"Amount = \",obj['amount'])"
   ]
  },
  {
   "cell_type": "code",
   "execution_count": 111,
   "metadata": {
    "collapsed": true
   },
   "outputs": [],
   "source": [
    "#piggyBank act like a class for outside user\n",
    "def piggyBank():\n",
    "    temp={'amount':0}\n",
    "    class Tiger:\n",
    "        pass\n",
    "    obj=Tiger()\n",
    "    def depTimePass(val):\n",
    "        deposit(temp,val)\n",
    "    def wiTimePass(val):\n",
    "        withdraw(temp,val)\n",
    "    def statTimePass():\n",
    "        statement(temp)\n",
    "     \n",
    "    obj.deposit=depTimePass\n",
    "    obj.withdraw=wiTimePass\n",
    "    obj.statement=statTimePass\n",
    "    \n",
    "    return obj\n",
    "    "
   ]
  },
  {
   "cell_type": "code",
   "execution_count": 112,
   "metadata": {
    "collapsed": false
   },
   "outputs": [],
   "source": [
    "#way in which outside user will interact\n",
    "a=piggyBank()\n",
    "b=piggyBank()"
   ]
  },
  {
   "cell_type": "code",
   "execution_count": 113,
   "metadata": {
    "collapsed": false
   },
   "outputs": [],
   "source": [
    "a.deposit(3)"
   ]
  },
  {
   "cell_type": "code",
   "execution_count": 114,
   "metadata": {
    "collapsed": false
   },
   "outputs": [
    {
     "name": "stdout",
     "output_type": "stream",
     "text": [
      "Amount =  3\n"
     ]
    }
   ],
   "source": [
    "a.statement()"
   ]
  },
  {
   "cell_type": "markdown",
   "metadata": {},
   "source": [
    "### using this method an person from outside can't modify amount variable\n",
    "### because amount variable is not visible to outside world"
   ]
  },
  {
   "cell_type": "code",
   "execution_count": 115,
   "metadata": {
    "collapsed": false
   },
   "outputs": [
    {
     "name": "stdout",
     "output_type": "stream",
     "text": [
      "Amount =  0\n"
     ]
    }
   ],
   "source": [
    "b.statement()"
   ]
  },
  {
   "cell_type": "code",
   "execution_count": 116,
   "metadata": {
    "collapsed": false
   },
   "outputs": [
    {
     "name": "stdout",
     "output_type": "stream",
     "text": [
      "Amount =  45\n"
     ]
    }
   ],
   "source": [
    "b.deposit(45)\n",
    "b.statement()"
   ]
  },
  {
   "cell_type": "code",
   "execution_count": 117,
   "metadata": {
    "collapsed": false
   },
   "outputs": [
    {
     "name": "stdout",
     "output_type": "stream",
     "text": [
      "Amount =  3\n"
     ]
    }
   ],
   "source": [
    "a.statement()"
   ]
  },
  {
   "cell_type": "code",
   "execution_count": 118,
   "metadata": {
    "collapsed": false
   },
   "outputs": [],
   "source": [
    "a.deposit(4)"
   ]
  },
  {
   "cell_type": "code",
   "execution_count": 119,
   "metadata": {
    "collapsed": false
   },
   "outputs": [
    {
     "name": "stdout",
     "output_type": "stream",
     "text": [
      "Amount =  7\n"
     ]
    }
   ],
   "source": [
    "a.statement()"
   ]
  },
  {
   "cell_type": "code",
   "execution_count": 120,
   "metadata": {
    "collapsed": false
   },
   "outputs": [
    {
     "name": "stdout",
     "output_type": "stream",
     "text": [
      "Amount =  45\n"
     ]
    }
   ],
   "source": [
    "b.statement()"
   ]
  },
  {
   "cell_type": "code",
   "execution_count": null,
   "metadata": {
    "collapsed": true
   },
   "outputs": [],
   "source": []
  }
 ],
 "metadata": {
  "anaconda-cloud": {},
  "kernelspec": {
   "display_name": "Python [conda root]",
   "language": "python",
   "name": "conda-root-py"
  },
  "language_info": {
   "codemirror_mode": {
    "name": "ipython",
    "version": 3
   },
   "file_extension": ".py",
   "mimetype": "text/x-python",
   "name": "python",
   "nbconvert_exporter": "python",
   "pygments_lexer": "ipython3",
   "version": "3.5.2"
  }
 },
 "nbformat": 4,
 "nbformat_minor": 1
}
