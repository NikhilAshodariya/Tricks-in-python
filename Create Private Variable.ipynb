{
 "cells": [
  {
   "cell_type": "code",
   "execution_count": 1,
   "metadata": {},
   "outputs": [],
   "source": [
    "def deposit(obj,a):\n",
    "        obj['amount']= obj['amount']+a\n",
    "        \n",
    "def withdraw(obj,a):\n",
    "    if a<amount:\n",
    "        amount=amount-a\n",
    "        print(\"New amount = \",amount)\n",
    "    else:\n",
    "        print(\"no sufficient balance \")\n",
    "\n",
    "def statement(obj):\n",
    "    print(\"Amount = \",obj['amount'])"
   ]
  },
  {
   "cell_type": "code",
   "execution_count": 2,
   "metadata": {},
   "outputs": [],
   "source": [
    "# Bank act like a class for outside user\n",
    "def Bank():\n",
    "    temp={'amount':0}\n",
    "    class Dummy:\n",
    "        pass\n",
    "    obj=Dummy()\n",
    "    def innerDeposit(val):\n",
    "        deposit(temp,val)\n",
    "    def innerWithdraw(val):\n",
    "        withdraw(temp,val)\n",
    "    def innerStatement():\n",
    "        statement(temp)\n",
    "     \n",
    "    obj.deposit=innerDeposit\n",
    "    obj.withdraw=innerWithdraw\n",
    "    obj.statement=innerStatement\n",
    "    \n",
    "    return obj"
   ]
  },
  {
   "cell_type": "code",
   "execution_count": 3,
   "metadata": {},
   "outputs": [],
   "source": [
    "#way in which outside user will interact\n",
    "a = Bank()\n",
    "b = Bank()"
   ]
  },
  {
   "cell_type": "code",
   "execution_count": 4,
   "metadata": {},
   "outputs": [],
   "source": [
    "a.deposit(3)"
   ]
  },
  {
   "cell_type": "code",
   "execution_count": 5,
   "metadata": {},
   "outputs": [
    {
     "name": "stdout",
     "output_type": "stream",
     "text": [
      "Amount =  3\n"
     ]
    }
   ],
   "source": [
    "a.statement()"
   ]
  },
  {
   "cell_type": "markdown",
   "metadata": {},
   "source": [
    "## using this method an person from outside can't modify amount variable"
   ]
  },
  {
   "cell_type": "markdown",
   "metadata": {},
   "source": [
    "## because amount variable is not visible to outside world"
   ]
  },
  {
   "cell_type": "code",
   "execution_count": 6,
   "metadata": {},
   "outputs": [
    {
     "name": "stdout",
     "output_type": "stream",
     "text": [
      "Amount =  0\n"
     ]
    }
   ],
   "source": [
    "b.statement()"
   ]
  },
  {
   "cell_type": "code",
   "execution_count": 7,
   "metadata": {},
   "outputs": [
    {
     "name": "stdout",
     "output_type": "stream",
     "text": [
      "Amount =  45\n"
     ]
    }
   ],
   "source": [
    "b.deposit(45)\n",
    "b.statement()"
   ]
  },
  {
   "cell_type": "code",
   "execution_count": 8,
   "metadata": {},
   "outputs": [
    {
     "name": "stdout",
     "output_type": "stream",
     "text": [
      "Amount =  3\n"
     ]
    }
   ],
   "source": [
    "a.statement()"
   ]
  },
  {
   "cell_type": "code",
   "execution_count": 9,
   "metadata": {},
   "outputs": [],
   "source": [
    "a.deposit(4)"
   ]
  },
  {
   "cell_type": "code",
   "execution_count": 10,
   "metadata": {},
   "outputs": [
    {
     "name": "stdout",
     "output_type": "stream",
     "text": [
      "Amount =  7\n"
     ]
    }
   ],
   "source": [
    "a.statement()"
   ]
  },
  {
   "cell_type": "code",
   "execution_count": 11,
   "metadata": {},
   "outputs": [
    {
     "name": "stdout",
     "output_type": "stream",
     "text": [
      "Amount =  45\n"
     ]
    }
   ],
   "source": [
    "b.statement()"
   ]
  },
  {
   "cell_type": "code",
   "execution_count": null,
   "metadata": {},
   "outputs": [],
   "source": []
  }
 ],
 "metadata": {
  "kernelspec": {
   "display_name": "Python [conda env:Anaconda3]",
   "language": "python",
   "name": "conda-env-Anaconda3-py"
  },
  "language_info": {
   "codemirror_mode": {
    "name": "ipython",
    "version": 3
   },
   "file_extension": ".py",
   "mimetype": "text/x-python",
   "name": "python",
   "nbconvert_exporter": "python",
   "pygments_lexer": "ipython3",
   "version": "3.6.5"
  }
 },
 "nbformat": 4,
 "nbformat_minor": 2
}
